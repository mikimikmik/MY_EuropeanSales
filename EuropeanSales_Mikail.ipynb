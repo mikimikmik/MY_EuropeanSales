{
 "cells": [
  {
   "cell_type": "code",
   "execution_count": 39,
   "metadata": {},
   "outputs": [],
   "source": [
    "import pandas as pd\n",
    "import matplotlib.pyplot as plt\n",
    "import seaborn as sns\n",
    "from sklearn.linear_model import LinearRegression\n",
    "from sklearn.metrics import r2_score, explained_variance_score,median_absolute_error, mean_squared_error, mean_absolute_error\n",
    "from sklearn.model_selection import train_test_split\n",
    "import numpy as np"
   ]
  },
  {
   "cell_type": "code",
   "execution_count": 3,
   "metadata": {},
   "outputs": [],
   "source": [
    "df=pd.read_csv('C:/Users/beril/Downloads/EuropeanSales.csv')"
   ]
  },
  {
   "cell_type": "code",
   "execution_count": 4,
   "metadata": {},
   "outputs": [
    {
     "data": {
      "text/html": [
       "<div>\n",
       "<style scoped>\n",
       "    .dataframe tbody tr th:only-of-type {\n",
       "        vertical-align: middle;\n",
       "    }\n",
       "\n",
       "    .dataframe tbody tr th {\n",
       "        vertical-align: top;\n",
       "    }\n",
       "\n",
       "    .dataframe thead th {\n",
       "        text-align: right;\n",
       "    }\n",
       "</style>\n",
       "<table border=\"1\" class=\"dataframe\">\n",
       "  <thead>\n",
       "    <tr style=\"text-align: right;\">\n",
       "      <th></th>\n",
       "      <th>Country</th>\n",
       "      <th>Population</th>\n",
       "      <th>GDPperHead</th>\n",
       "      <th>UnemploymentRate</th>\n",
       "      <th>EducationSpending</th>\n",
       "      <th>SalesPerCapita</th>\n",
       "      <th>ComputerSales</th>\n",
       "    </tr>\n",
       "  </thead>\n",
       "  <tbody>\n",
       "    <tr>\n",
       "      <th>0</th>\n",
       "      <td>Austria</td>\n",
       "      <td>8.4</td>\n",
       "      <td>49.60</td>\n",
       "      <td>4.2</td>\n",
       "      <td>5.8</td>\n",
       "      <td>112</td>\n",
       "      <td>941</td>\n",
       "    </tr>\n",
       "    <tr>\n",
       "      <th>1</th>\n",
       "      <td>Belgium</td>\n",
       "      <td>10.5</td>\n",
       "      <td>47.09</td>\n",
       "      <td>8.1</td>\n",
       "      <td>5.9</td>\n",
       "      <td>160</td>\n",
       "      <td>1682</td>\n",
       "    </tr>\n",
       "    <tr>\n",
       "      <th>2</th>\n",
       "      <td>Bulgaria</td>\n",
       "      <td>7.6</td>\n",
       "      <td>6.55</td>\n",
       "      <td>13.5</td>\n",
       "      <td>3.5</td>\n",
       "      <td>20</td>\n",
       "      <td>154</td>\n",
       "    </tr>\n",
       "    <tr>\n",
       "      <th>3</th>\n",
       "      <td>Czech Rep.</td>\n",
       "      <td>10.2</td>\n",
       "      <td>20.67</td>\n",
       "      <td>6.6</td>\n",
       "      <td>4.4</td>\n",
       "      <td>101</td>\n",
       "      <td>1029</td>\n",
       "    </tr>\n",
       "    <tr>\n",
       "      <th>4</th>\n",
       "      <td>Denmark</td>\n",
       "      <td>5.5</td>\n",
       "      <td>62.12</td>\n",
       "      <td>5.2</td>\n",
       "      <td>8.4</td>\n",
       "      <td>170</td>\n",
       "      <td>935</td>\n",
       "    </tr>\n",
       "    <tr>\n",
       "      <th>5</th>\n",
       "      <td>Finland</td>\n",
       "      <td>5.3</td>\n",
       "      <td>51.32</td>\n",
       "      <td>9.9</td>\n",
       "      <td>6.3</td>\n",
       "      <td>372</td>\n",
       "      <td>1971</td>\n",
       "    </tr>\n",
       "    <tr>\n",
       "      <th>6</th>\n",
       "      <td>France</td>\n",
       "      <td>61.9</td>\n",
       "      <td>44.51</td>\n",
       "      <td>10.0</td>\n",
       "      <td>5.7</td>\n",
       "      <td>96</td>\n",
       "      <td>5929</td>\n",
       "    </tr>\n",
       "    <tr>\n",
       "      <th>7</th>\n",
       "      <td>Germany</td>\n",
       "      <td>82.5</td>\n",
       "      <td>44.45</td>\n",
       "      <td>9.1</td>\n",
       "      <td>4.6</td>\n",
       "      <td>83</td>\n",
       "      <td>6824</td>\n",
       "    </tr>\n",
       "    <tr>\n",
       "      <th>8</th>\n",
       "      <td>Greece</td>\n",
       "      <td>11.2</td>\n",
       "      <td>31.67</td>\n",
       "      <td>9.9</td>\n",
       "      <td>3.9</td>\n",
       "      <td>73</td>\n",
       "      <td>813</td>\n",
       "    </tr>\n",
       "    <tr>\n",
       "      <th>9</th>\n",
       "      <td>Hungary</td>\n",
       "      <td>10.0</td>\n",
       "      <td>15.41</td>\n",
       "      <td>7.3</td>\n",
       "      <td>5.1</td>\n",
       "      <td>45</td>\n",
       "      <td>449</td>\n",
       "    </tr>\n",
       "    <tr>\n",
       "      <th>10</th>\n",
       "      <td>Ireland</td>\n",
       "      <td>4.4</td>\n",
       "      <td>60.46</td>\n",
       "      <td>6.3</td>\n",
       "      <td>4.3</td>\n",
       "      <td>131</td>\n",
       "      <td>577</td>\n",
       "    </tr>\n",
       "    <tr>\n",
       "      <th>11</th>\n",
       "      <td>Italy</td>\n",
       "      <td>58.9</td>\n",
       "      <td>38.49</td>\n",
       "      <td>9.3</td>\n",
       "      <td>5.0</td>\n",
       "      <td>66</td>\n",
       "      <td>3858</td>\n",
       "    </tr>\n",
       "    <tr>\n",
       "      <th>12</th>\n",
       "      <td>Netherlands</td>\n",
       "      <td>16.5</td>\n",
       "      <td>52.96</td>\n",
       "      <td>4.4</td>\n",
       "      <td>5.0</td>\n",
       "      <td>131</td>\n",
       "      <td>2169</td>\n",
       "    </tr>\n",
       "    <tr>\n",
       "      <th>13</th>\n",
       "      <td>Poland</td>\n",
       "      <td>38.0</td>\n",
       "      <td>13.85</td>\n",
       "      <td>14.4</td>\n",
       "      <td>5.6</td>\n",
       "      <td>75</td>\n",
       "      <td>2847</td>\n",
       "    </tr>\n",
       "    <tr>\n",
       "      <th>14</th>\n",
       "      <td>Portugal</td>\n",
       "      <td>10.7</td>\n",
       "      <td>22.92</td>\n",
       "      <td>6.3</td>\n",
       "      <td>5.9</td>\n",
       "      <td>68</td>\n",
       "      <td>729</td>\n",
       "    </tr>\n",
       "    <tr>\n",
       "      <th>15</th>\n",
       "      <td>Romania</td>\n",
       "      <td>21.3</td>\n",
       "      <td>9.30</td>\n",
       "      <td>7.0</td>\n",
       "      <td>3.3</td>\n",
       "      <td>32</td>\n",
       "      <td>687</td>\n",
       "    </tr>\n",
       "    <tr>\n",
       "      <th>16</th>\n",
       "      <td>Spain</td>\n",
       "      <td>44.8</td>\n",
       "      <td>35.22</td>\n",
       "      <td>14.2</td>\n",
       "      <td>4.4</td>\n",
       "      <td>106</td>\n",
       "      <td>4746</td>\n",
       "    </tr>\n",
       "    <tr>\n",
       "      <th>17</th>\n",
       "      <td>Switzerland</td>\n",
       "      <td>7.5</td>\n",
       "      <td>64.43</td>\n",
       "      <td>3.6</td>\n",
       "      <td>5.6</td>\n",
       "      <td>151</td>\n",
       "      <td>1130</td>\n",
       "    </tr>\n",
       "    <tr>\n",
       "      <th>18</th>\n",
       "      <td>Sweden</td>\n",
       "      <td>9.2</td>\n",
       "      <td>51.95</td>\n",
       "      <td>6.3</td>\n",
       "      <td>7.6</td>\n",
       "      <td>230</td>\n",
       "      <td>2113</td>\n",
       "    </tr>\n",
       "    <tr>\n",
       "      <th>19</th>\n",
       "      <td>Turkey</td>\n",
       "      <td>75.8</td>\n",
       "      <td>9.94</td>\n",
       "      <td>8.6</td>\n",
       "      <td>3.7</td>\n",
       "      <td>38</td>\n",
       "      <td>2879</td>\n",
       "    </tr>\n",
       "    <tr>\n",
       "      <th>20</th>\n",
       "      <td>UK</td>\n",
       "      <td>61.0</td>\n",
       "      <td>43.54</td>\n",
       "      <td>5.9</td>\n",
       "      <td>4.8</td>\n",
       "      <td>162</td>\n",
       "      <td>9887</td>\n",
       "    </tr>\n",
       "  </tbody>\n",
       "</table>\n",
       "</div>"
      ],
      "text/plain": [
       "        Country  Population  GDPperHead  UnemploymentRate  EducationSpending  \\\n",
       "0       Austria         8.4       49.60               4.2                5.8   \n",
       "1       Belgium        10.5       47.09               8.1                5.9   \n",
       "2      Bulgaria         7.6        6.55              13.5                3.5   \n",
       "3    Czech Rep.        10.2       20.67               6.6                4.4   \n",
       "4       Denmark         5.5       62.12               5.2                8.4   \n",
       "5       Finland         5.3       51.32               9.9                6.3   \n",
       "6        France        61.9       44.51              10.0                5.7   \n",
       "7       Germany        82.5       44.45               9.1                4.6   \n",
       "8        Greece        11.2       31.67               9.9                3.9   \n",
       "9       Hungary        10.0       15.41               7.3                5.1   \n",
       "10      Ireland         4.4       60.46               6.3                4.3   \n",
       "11        Italy        58.9       38.49               9.3                5.0   \n",
       "12  Netherlands        16.5       52.96               4.4                5.0   \n",
       "13       Poland        38.0       13.85              14.4                5.6   \n",
       "14     Portugal        10.7       22.92               6.3                5.9   \n",
       "15      Romania        21.3        9.30               7.0                3.3   \n",
       "16        Spain        44.8       35.22              14.2                4.4   \n",
       "17  Switzerland         7.5       64.43               3.6                5.6   \n",
       "18       Sweden         9.2       51.95               6.3                7.6   \n",
       "19       Turkey        75.8        9.94               8.6                3.7   \n",
       "20           UK        61.0       43.54               5.9                4.8   \n",
       "\n",
       "    SalesPerCapita  ComputerSales  \n",
       "0              112            941  \n",
       "1              160           1682  \n",
       "2               20            154  \n",
       "3              101           1029  \n",
       "4              170            935  \n",
       "5              372           1971  \n",
       "6               96           5929  \n",
       "7               83           6824  \n",
       "8               73            813  \n",
       "9               45            449  \n",
       "10             131            577  \n",
       "11              66           3858  \n",
       "12             131           2169  \n",
       "13              75           2847  \n",
       "14              68            729  \n",
       "15              32            687  \n",
       "16             106           4746  \n",
       "17             151           1130  \n",
       "18             230           2113  \n",
       "19              38           2879  \n",
       "20             162           9887  "
      ]
     },
     "execution_count": 4,
     "metadata": {},
     "output_type": "execute_result"
    }
   ],
   "source": [
    "df"
   ]
  },
  {
   "cell_type": "code",
   "execution_count": 6,
   "metadata": {},
   "outputs": [
    {
     "data": {
      "text/html": [
       "<div>\n",
       "<style scoped>\n",
       "    .dataframe tbody tr th:only-of-type {\n",
       "        vertical-align: middle;\n",
       "    }\n",
       "\n",
       "    .dataframe tbody tr th {\n",
       "        vertical-align: top;\n",
       "    }\n",
       "\n",
       "    .dataframe thead th {\n",
       "        text-align: right;\n",
       "    }\n",
       "</style>\n",
       "<table border=\"1\" class=\"dataframe\">\n",
       "  <thead>\n",
       "    <tr style=\"text-align: right;\">\n",
       "      <th></th>\n",
       "      <th>Population</th>\n",
       "      <th>GDPperHead</th>\n",
       "      <th>UnemploymentRate</th>\n",
       "      <th>EducationSpending</th>\n",
       "      <th>SalesPerCapita</th>\n",
       "      <th>ComputerSales</th>\n",
       "    </tr>\n",
       "  </thead>\n",
       "  <tbody>\n",
       "    <tr>\n",
       "      <th>Population</th>\n",
       "      <td>1.000000</td>\n",
       "      <td>-0.175236</td>\n",
       "      <td>0.321035</td>\n",
       "      <td>-0.292881</td>\n",
       "      <td>-0.298383</td>\n",
       "      <td>0.807971</td>\n",
       "    </tr>\n",
       "    <tr>\n",
       "      <th>GDPperHead</th>\n",
       "      <td>-0.175236</td>\n",
       "      <td>1.000000</td>\n",
       "      <td>-0.502419</td>\n",
       "      <td>0.589111</td>\n",
       "      <td>0.662254</td>\n",
       "      <td>0.151556</td>\n",
       "    </tr>\n",
       "    <tr>\n",
       "      <th>UnemploymentRate</th>\n",
       "      <td>0.321035</td>\n",
       "      <td>-0.502419</td>\n",
       "      <td>1.000000</td>\n",
       "      <td>-0.314309</td>\n",
       "      <td>-0.213605</td>\n",
       "      <td>0.171849</td>\n",
       "    </tr>\n",
       "    <tr>\n",
       "      <th>EducationSpending</th>\n",
       "      <td>-0.292881</td>\n",
       "      <td>0.589111</td>\n",
       "      <td>-0.314309</td>\n",
       "      <td>1.000000</td>\n",
       "      <td>0.612180</td>\n",
       "      <td>-0.052690</td>\n",
       "    </tr>\n",
       "    <tr>\n",
       "      <th>SalesPerCapita</th>\n",
       "      <td>-0.298383</td>\n",
       "      <td>0.662254</td>\n",
       "      <td>-0.213605</td>\n",
       "      <td>0.612180</td>\n",
       "      <td>1.000000</td>\n",
       "      <td>0.081418</td>\n",
       "    </tr>\n",
       "    <tr>\n",
       "      <th>ComputerSales</th>\n",
       "      <td>0.807971</td>\n",
       "      <td>0.151556</td>\n",
       "      <td>0.171849</td>\n",
       "      <td>-0.052690</td>\n",
       "      <td>0.081418</td>\n",
       "      <td>1.000000</td>\n",
       "    </tr>\n",
       "  </tbody>\n",
       "</table>\n",
       "</div>"
      ],
      "text/plain": [
       "                   Population  GDPperHead  UnemploymentRate  \\\n",
       "Population           1.000000   -0.175236          0.321035   \n",
       "GDPperHead          -0.175236    1.000000         -0.502419   \n",
       "UnemploymentRate     0.321035   -0.502419          1.000000   \n",
       "EducationSpending   -0.292881    0.589111         -0.314309   \n",
       "SalesPerCapita      -0.298383    0.662254         -0.213605   \n",
       "ComputerSales        0.807971    0.151556          0.171849   \n",
       "\n",
       "                   EducationSpending  SalesPerCapita  ComputerSales  \n",
       "Population                 -0.292881       -0.298383       0.807971  \n",
       "GDPperHead                  0.589111        0.662254       0.151556  \n",
       "UnemploymentRate           -0.314309       -0.213605       0.171849  \n",
       "EducationSpending           1.000000        0.612180      -0.052690  \n",
       "SalesPerCapita              0.612180        1.000000       0.081418  \n",
       "ComputerSales              -0.052690        0.081418       1.000000  "
      ]
     },
     "execution_count": 6,
     "metadata": {},
     "output_type": "execute_result"
    }
   ],
   "source": [
    "df.corr()"
   ]
  },
  {
   "cell_type": "code",
   "execution_count": 8,
   "metadata": {},
   "outputs": [
    {
     "data": {
      "text/plain": [
       "<matplotlib.axes._subplots.AxesSubplot at 0x2554fb394c0>"
      ]
     },
     "execution_count": 8,
     "metadata": {},
     "output_type": "execute_result"
    },
    {
     "data": {
      "image/png": "[encoded data removed]",
      "text/plain": [
       "<Figure size 432x288 with 2 Axes>"
      ]
     },
     "metadata": {
      "needs_background": "light"
     },
     "output_type": "display_data"
    }
   ],
   "source": [
    "sns.heatmap(df.corr(), annot=True)"
   ]
  },
  {
   "cell_type": "code",
   "execution_count": 53,
   "metadata": {},
   "outputs": [],
   "source": [
    "#Building a model with all variables, first for total sales\n",
    "X= df[['Population', 'GDPperHead', 'UnemploymentRate', 'EducationSpending']].values\n",
    "y=df['ComputerSales'].values\n"
   ]
  },
  {
   "cell_type": "code",
   "execution_count": 54,
   "metadata": {},
   "outputs": [
    {
     "data": {
      "text/plain": [
       "array([1363.8820806 , 1644.88616336, -165.68201471,  328.04375333,\n",
       "       1873.39885463, 1522.41137585, 5810.29898062, 7367.96794715,\n",
       "       1021.6595562 ,  170.39567292, 1517.62265041, 5229.97696895,\n",
       "       2126.5368222 , 2797.50370053,  541.19478105,  703.5738682 ,\n",
       "       4170.17655694, 1873.54542687, 1753.62348984, 5278.8535032 ,\n",
       "       5419.12986186])"
      ]
     },
     "execution_count": 54,
     "metadata": {},
     "output_type": "execute_result"
    }
   ],
   "source": [
    "lm=LinearRegression()\n",
    "lm.fit(X, y)\n",
    "prediction=lm.predict(X)\n",
    "prediction"
   ]
  },
  {
   "cell_type": "code",
   "execution_count": 55,
   "metadata": {},
   "outputs": [
    {
     "data": {
      "text/plain": [
       "0.7453340621475361"
      ]
     },
     "execution_count": 55,
     "metadata": {},
     "output_type": "execute_result"
    }
   ],
   "source": [
    "lm.score(X,y)"
   ]
  },
  {
   "cell_type": "code",
   "execution_count": 56,
   "metadata": {},
   "outputs": [],
   "source": [
    "def adjusted_r2(R2, a):\n",
    "    adj_r2 = 1- (1-R2)*(a.shape[0]-1)/(a.shape[0]-a.shape[1]-1)\n",
    "    return adj_r2\n",
    "    "
   ]
  },
  {
   "cell_type": "code",
   "execution_count": 57,
   "metadata": {},
   "outputs": [
    {
     "data": {
      "text/plain": [
       "0.6816675776844201"
      ]
     },
     "execution_count": 57,
     "metadata": {},
     "output_type": "execute_result"
    }
   ],
   "source": [
    "adjusted_r2(lm.score(X,y), X)"
   ]
  },
  {
   "cell_type": "code",
   "execution_count": 58,
   "metadata": {},
   "outputs": [
    {
     "data": {
      "text/plain": [
       "array([[ 8.4 , 49.6 ,  4.2 ,  5.8 ],\n",
       "       [10.5 , 47.09,  8.1 ,  5.9 ],\n",
       "       [ 7.6 ,  6.55, 13.5 ,  3.5 ],\n",
       "       [10.2 , 20.67,  6.6 ,  4.4 ],\n",
       "       [ 5.5 , 62.12,  5.2 ,  8.4 ],\n",
       "       [ 5.3 , 51.32,  9.9 ,  6.3 ],\n",
       "       [61.9 , 44.51, 10.  ,  5.7 ],\n",
       "       [82.5 , 44.45,  9.1 ,  4.6 ],\n",
       "       [11.2 , 31.67,  9.9 ,  3.9 ],\n",
       "       [10.  , 15.41,  7.3 ,  5.1 ],\n",
       "       [ 4.4 , 60.46,  6.3 ,  4.3 ],\n",
       "       [58.9 , 38.49,  9.3 ,  5.  ],\n",
       "       [16.5 , 52.96,  4.4 ,  5.  ],\n",
       "       [38.  , 13.85, 14.4 ,  5.6 ],\n",
       "       [10.7 , 22.92,  6.3 ,  5.9 ],\n",
       "       [21.3 ,  9.3 ,  7.  ,  3.3 ],\n",
       "       [44.8 , 35.22, 14.2 ,  4.4 ],\n",
       "       [ 7.5 , 64.43,  3.6 ,  5.6 ],\n",
       "       [ 9.2 , 51.95,  6.3 ,  7.6 ],\n",
       "       [75.8 ,  9.94,  8.6 ,  3.7 ],\n",
       "       [61.  , 43.54,  5.9 ,  4.8 ]])"
      ]
     },
     "execution_count": 58,
     "metadata": {},
     "output_type": "execute_result"
    }
   ],
   "source": [
    "X"
   ]
  },
  {
   "cell_type": "code",
   "execution_count": 59,
   "metadata": {},
   "outputs": [
    {
     "data": {
      "text/plain": [
       "0.6967160526248697"
      ]
     },
     "execution_count": 59,
     "metadata": {},
     "output_type": "execute_result"
    }
   ],
   "source": [
    "# Not bad but i think we can do better, i will drop the variables one by one starting with unemployment rate\n",
    "X = np.delete(X, 2, 1)\n",
    "lm=LinearRegression()\n",
    "lm.fit(X, y)\n",
    "prediction=lm.predict(X)\n",
    "prediction\n",
    "lm.score(X,y)\n",
    "adjusted_r2(lm.score(X,y), X)"
   ]
  },
  {
   "cell_type": "code",
   "execution_count": 60,
   "metadata": {},
   "outputs": [
    {
     "data": {
      "text/plain": [
       "array([[ 8.4 , 49.6 ,  5.8 ],\n",
       "       [10.5 , 47.09,  5.9 ],\n",
       "       [ 7.6 ,  6.55,  3.5 ],\n",
       "       [10.2 , 20.67,  4.4 ],\n",
       "       [ 5.5 , 62.12,  8.4 ],\n",
       "       [ 5.3 , 51.32,  6.3 ],\n",
       "       [61.9 , 44.51,  5.7 ],\n",
       "       [82.5 , 44.45,  4.6 ],\n",
       "       [11.2 , 31.67,  3.9 ],\n",
       "       [10.  , 15.41,  5.1 ],\n",
       "       [ 4.4 , 60.46,  4.3 ],\n",
       "       [58.9 , 38.49,  5.  ],\n",
       "       [16.5 , 52.96,  5.  ],\n",
       "       [38.  , 13.85,  5.6 ],\n",
       "       [10.7 , 22.92,  5.9 ],\n",
       "       [21.3 ,  9.3 ,  3.3 ],\n",
       "       [44.8 , 35.22,  4.4 ],\n",
       "       [ 7.5 , 64.43,  5.6 ],\n",
       "       [ 9.2 , 51.95,  7.6 ],\n",
       "       [75.8 ,  9.94,  3.7 ],\n",
       "       [61.  , 43.54,  4.8 ]])"
      ]
     },
     "execution_count": 60,
     "metadata": {},
     "output_type": "execute_result"
    }
   ],
   "source": [
    "X"
   ]
  },
  {
   "cell_type": "code",
   "execution_count": 61,
   "metadata": {},
   "outputs": [
    {
     "data": {
      "text/plain": [
       "0.7127460832075186"
      ]
     },
     "execution_count": 61,
     "metadata": {},
     "output_type": "execute_result"
    }
   ],
   "source": [
    "#Dropping educationspending\n",
    "X = np.delete(X, 2, 1)\n",
    "lm=LinearRegression()\n",
    "lm.fit(X, y)\n",
    "prediction=lm.predict(X)\n",
    "prediction\n",
    "lm.score(X,y)\n",
    "adjusted_r2(lm.score(X,y), X)"
   ]
  },
  {
   "cell_type": "code",
   "execution_count": 62,
   "metadata": {},
   "outputs": [
    {
     "data": {
      "text/plain": [
       "0.6345445541055612"
      ]
     },
     "execution_count": 62,
     "metadata": {},
     "output_type": "execute_result"
    }
   ],
   "source": [
    "#Dropping GDP per Head\n",
    "X = np.delete(X, 1, 1)\n",
    "lm=LinearRegression()\n",
    "lm.fit(X, y)\n",
    "prediction=lm.predict(X)\n",
    "prediction\n",
    "lm.score(X,y)\n",
    "adjusted_r2(lm.score(X,y), X)"
   ]
  },
  {
   "cell_type": "code",
   "execution_count": 71,
   "metadata": {},
   "outputs": [
    {
     "data": {
      "text/plain": [
       "-0.028453553695305445"
      ]
     },
     "execution_count": 71,
     "metadata": {},
     "output_type": "execute_result"
    }
   ],
   "source": [
    "#Dropping GDP per Head did not bring good results, will try only GDP per Head\n",
    "X=df['GDPperHead'].values\n",
    "X=X.reshape(-1,1)\n",
    "lm=LinearRegression()\n",
    "lm.fit(X, y)\n",
    "prediction=lm.predict(X)\n",
    "prediction\n",
    "lm.score(X,y)\n",
    "adjusted_r2(lm.score(X,y), X)"
   ]
  },
  {
   "cell_type": "code",
   "execution_count": 78,
   "metadata": {},
   "outputs": [
    {
     "data": {
      "text/plain": [
       "0.7992805732728091"
      ]
     },
     "execution_count": 78,
     "metadata": {},
     "output_type": "execute_result"
    }
   ],
   "source": [
    "#Very bad results, i think i did something wrong, i will try one more variable by multiplying GDPperHead with Population\n",
    "X=df.GDPperHead*df.Population\n",
    "X=np.array(X)\n",
    "X=X.reshape(-1,1)\n",
    "lm=LinearRegression()\n",
    "lm.fit(X, y)\n",
    "prediction=lm.predict(X)\n",
    "prediction\n",
    "lm.score(X,y)\n",
    "adjusted_r2(lm.score(X,y), X)"
   ]
  },
  {
   "cell_type": "code",
   "execution_count": 81,
   "metadata": {},
   "outputs": [
    {
     "data": {
      "text/plain": [
       "0.45492835248236485"
      ]
     },
     "execution_count": 81,
     "metadata": {},
     "output_type": "execute_result"
    }
   ],
   "source": [
    "#Combining 2 variables by multiplying them gives us the best result, now trying to predict SalesperCapita, at first using all variables\n",
    "X= df[['Population', 'GDPperHead', 'UnemploymentRate', 'EducationSpending']].values\n",
    "y=df['SalesPerCapita'].values\n",
    "lm=LinearRegression()\n",
    "lm.fit(X, y)\n",
    "prediction=lm.predict(X)\n",
    "prediction\n",
    "lm.score(X,y)\n",
    "adjusted_r2(lm.score(X,y), X)"
   ]
  },
  {
   "cell_type": "code",
   "execution_count": 82,
   "metadata": {},
   "outputs": [
    {
     "data": {
      "text/plain": [
       "0.45308256988345574"
      ]
     },
     "execution_count": 82,
     "metadata": {},
     "output_type": "execute_result"
    }
   ],
   "source": [
    "#very low results, lets drop population first\n",
    "X=np.delete(X, 0, 1)\n",
    "lm=LinearRegression()\n",
    "lm.fit(X, y)\n",
    "prediction=lm.predict(X)\n",
    "prediction\n",
    "lm.score(X,y)\n",
    "adjusted_r2(lm.score(X,y), X)\n"
   ]
  },
  {
   "cell_type": "code",
   "execution_count": 83,
   "metadata": {},
   "outputs": [
    {
     "data": {
      "text/plain": [
       "0.4250280010245431"
      ]
     },
     "execution_count": 83,
     "metadata": {},
     "output_type": "execute_result"
    }
   ],
   "source": [
    "#we got even lower results, i will keep population and drop other variables starting with education spending\n",
    "X= df[['Population', 'GDPperHead', 'UnemploymentRate']].values\n",
    "y=df['SalesPerCapita'].values\n",
    "lm=LinearRegression()\n",
    "lm.fit(X, y)\n",
    "prediction=lm.predict(X)\n",
    "prediction\n",
    "lm.score(X,y)\n",
    "adjusted_r2(lm.score(X,y), X)"
   ]
  },
  {
   "cell_type": "code",
   "execution_count": 84,
   "metadata": {},
   "outputs": [
    {
     "data": {
      "text/plain": [
       "0.4462064104388075"
      ]
     },
     "execution_count": 84,
     "metadata": {},
     "output_type": "execute_result"
    }
   ],
   "source": [
    "#Also lower results, lets try unemployment rate\n",
    "X= df[['Population', 'GDPperHead', 'EducationSpending']].values\n",
    "y=df['SalesPerCapita'].values\n",
    "lm=LinearRegression()\n",
    "lm.fit(X, y)\n",
    "prediction=lm.predict(X)\n",
    "prediction\n",
    "lm.score(X,y)\n",
    "adjusted_r2(lm.score(X,y), X)"
   ]
  },
  {
   "cell_type": "code",
   "execution_count": 85,
   "metadata": {},
   "outputs": [
    {
     "data": {
      "text/plain": [
       "0.41430925718807066"
      ]
     },
     "execution_count": 85,
     "metadata": {},
     "output_type": "execute_result"
    }
   ],
   "source": [
    "#Higher than last one but lower overall, lets try just population and GDPperHead\n",
    "X= df[['Population', 'GDPperHead']].values\n",
    "y=df['SalesPerCapita'].values\n",
    "lm=LinearRegression()\n",
    "lm.fit(X, y)\n",
    "prediction=lm.predict(X)\n",
    "prediction\n",
    "lm.score(X,y)\n",
    "adjusted_r2(lm.score(X,y), X)"
   ]
  },
  {
   "cell_type": "code",
   "execution_count": 86,
   "metadata": {},
   "outputs": [
    {
     "data": {
      "text/plain": [
       "0.40903143716400336"
      ]
     },
     "execution_count": 86,
     "metadata": {},
     "output_type": "execute_result"
    }
   ],
   "source": [
    "#Still lower, lets try only GDPperHead\n",
    "X= df[['GDPperHead']].values\n",
    "y=df['SalesPerCapita'].values\n",
    "lm=LinearRegression()\n",
    "lm.fit(X, y)\n",
    "prediction=lm.predict(X)\n",
    "prediction\n",
    "lm.score(X,y)\n",
    "adjusted_r2(lm.score(X,y), X)"
   ]
  },
  {
   "cell_type": "code",
   "execution_count": 87,
   "metadata": {},
   "outputs": [
    {
     "data": {
      "text/plain": [
       "0.041087005841985325"
      ]
     },
     "execution_count": 87,
     "metadata": {},
     "output_type": "execute_result"
    }
   ],
   "source": [
    "#Even lower, lets try all of them one by one\n",
    "X= df[['Population']].values\n",
    "y=df['SalesPerCapita'].values\n",
    "lm=LinearRegression()\n",
    "lm.fit(X, y)\n",
    "prediction=lm.predict(X)\n",
    "prediction\n",
    "lm.score(X,y)\n",
    "adjusted_r2(lm.score(X,y), X)"
   ]
  },
  {
   "cell_type": "code",
   "execution_count": 88,
   "metadata": {},
   "outputs": [
    {
     "data": {
      "text/plain": [
       "0.3418567298730031"
      ]
     },
     "execution_count": 88,
     "metadata": {},
     "output_type": "execute_result"
    }
   ],
   "source": [
    "#Very low, probably not going to use population\n",
    "X= df[['EducationSpending']].values\n",
    "y=df['SalesPerCapita'].values\n",
    "lm=LinearRegression()\n",
    "lm.fit(X, y)\n",
    "prediction=lm.predict(X)\n",
    "prediction\n",
    "lm.score(X,y)\n",
    "adjusted_r2(lm.score(X,y), X)"
   ]
  },
  {
   "cell_type": "code",
   "execution_count": 89,
   "metadata": {},
   "outputs": [
    {
     "data": {
      "text/plain": [
       "-0.004602928588891997"
      ]
     },
     "execution_count": 89,
     "metadata": {},
     "output_type": "execute_result"
    }
   ],
   "source": [
    "#Not bad\n",
    "X= df[['UnemploymentRate']].values\n",
    "y=df['SalesPerCapita'].values\n",
    "lm=LinearRegression()\n",
    "lm.fit(X, y)\n",
    "prediction=lm.predict(X)\n",
    "prediction\n",
    "lm.score(X,y)\n",
    "adjusted_r2(lm.score(X,y), X)"
   ]
  },
  {
   "cell_type": "code",
   "execution_count": 91,
   "metadata": {},
   "outputs": [
    {
     "data": {
      "text/plain": [
       "0.4600950349250724"
      ]
     },
     "execution_count": 91,
     "metadata": {},
     "output_type": "execute_result"
    }
   ],
   "source": [
    "#Very low, not going to use this as well\n",
    "X= df[['EducationSpending', 'GDPperHead']].values\n",
    "y=df['SalesPerCapita'].values\n",
    "lm=LinearRegression()\n",
    "lm.fit(X, y)\n",
    "prediction=lm.predict(X)\n",
    "prediction\n",
    "lm.score(X,y)\n",
    "adjusted_r2(lm.score(X,y), X)"
   ]
  },
  {
   "cell_type": "code",
   "execution_count": 94,
   "metadata": {},
   "outputs": [
    {
     "data": {
      "text/plain": [
       "0.48407222557858665"
      ]
     },
     "execution_count": 94,
     "metadata": {},
     "output_type": "execute_result"
    }
   ],
   "source": [
    "#Lets try feature engineering\n",
    "df['EduPerCapita']=df['EducationSpending']/df['Population']\n",
    "X= df[['EduPerCapita', 'GDPperHead']].values\n",
    "y=df['SalesPerCapita'].values\n",
    "lm=LinearRegression()\n",
    "lm.fit(X, y)\n",
    "prediction=lm.predict(X)\n",
    "prediction\n",
    "lm.score(X,y)\n",
    "adjusted_r2(lm.score(X,y), X)"
   ]
  },
  {
   "cell_type": "code",
   "execution_count": 95,
   "metadata": {},
   "outputs": [
    {
     "data": {
      "text/plain": [
       "0.3484074920093274"
      ]
     },
     "execution_count": 95,
     "metadata": {},
     "output_type": "execute_result"
    }
   ],
   "source": [
    "#A little higher, lets try some more\n",
    "df['EduPerGDP']=df['EducationSpending']/df['Population']\n",
    "X= df[['EduPerGDP']].values\n",
    "y=df['SalesPerCapita'].values\n",
    "lm=LinearRegression()\n",
    "lm.fit(X, y)\n",
    "prediction=lm.predict(X)\n",
    "prediction\n",
    "lm.score(X,y)\n",
    "adjusted_r2(lm.score(X,y), X)\n"
   ]
  },
  {
   "cell_type": "code",
   "execution_count": null,
   "metadata": {},
   "outputs": [],
   "source": [
    "#Overall we got the highest with EducationSpending/Population and GDPperHead, this one is harder to predict. \n",
    "#I did not use train_test_split or scaling as the data is very limited and they wont have much effect\n"
   ]
  }
 ],
 "metadata": {
  "kernelspec": {
   "display_name": "Python 3",
   "language": "python",
   "name": "python3"
  },
  "language_info": {
   "codemirror_mode": {
    "name": "ipython",
    "version": 3
   },
   "file_extension": ".py",
   "mimetype": "text/x-python",
   "name": "python",
   "nbconvert_exporter": "python",
   "pygments_lexer": "ipython3",
   "version": "3.8.3"
  }
 },
 "nbformat": 4,
 "nbformat_minor": 4
}
